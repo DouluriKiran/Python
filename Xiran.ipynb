{
 "cells": [
  {
   "cell_type": "markdown",
   "metadata": {},
   "source": [
    "### Basic Login Page Design : Xiran\n",
    "\n",
    "\n",
    "1. create main window with Tkinter\n",
    "\n",
    "\n",
    "\n",
    "2. Import image as per requirement dimensions \n",
    "\n",
    "\n",
    "\n",
    "3. create label frame as well as position \n",
    "\n",
    "\n",
    "\n",
    "4. Titles, Entries as well as Enter button.\n",
    "\n",
    "\n"
   ]
  },
  {
   "cell_type": "markdown",
   "metadata": {},
   "source": [
    "###  Expected : Xiran Web\n",
    "\n",
    "<img src='Xiran_Web.jpg' width=\"800\" height=\"200\">"
   ]
  },
  {
   "cell_type": "code",
   "execution_count": 1,
   "metadata": {},
   "outputs": [
    {
     "data": {
      "text/plain": [
       "''"
      ]
     },
     "execution_count": 1,
     "metadata": {},
     "output_type": "execute_result"
    }
   ],
   "source": [
    "import tkinter as tk\n",
    "from tkinter import *\n",
    "\n",
    "\n",
    "from PIL import ImageTk,Image \n",
    "import pymysql\n",
    "from tkinter import messagebox\n",
    "\n",
    "  \n",
    "root=Tk()\n",
    "root.title(\"Xiran Web Login\") \n",
    "root.minsize(width=400,height=400)\n",
    "\n",
    "# setting the windows size\n",
    "root.geometry(\"600x400\")\n",
    "\n",
    "\n",
    "  \n"
   ]
  },
  {
   "cell_type": "code",
   "execution_count": 2,
   "metadata": {},
   "outputs": [],
   "source": [
    "same=True\n",
    "n=2\n",
    "\n",
    "# Adding a background image\n",
    "background_image =Image.open(\"Kiran_Douluri_1.jpg\")\n",
    "[imageSizeWidth, imageSizeHeight] = background_image.size\n",
    "\n",
    "newImageSizeWidth = int(imageSizeWidth*n)\n",
    "if same:\n",
    "    newImageSizeHeight = int(imageSizeHeight*n) \n",
    "else:\n",
    "    newImageSizeHeight = int(imageSizeHeight/n) \n",
    "    \n",
    "background_image = background_image.resize((newImageSizeWidth,newImageSizeHeight),Image.ANTIALIAS)\n",
    "img = ImageTk.PhotoImage(background_image)\n",
    "Canvas1 = Canvas(root)\n",
    "Canvas1.create_image(400,500,image = img)      \n",
    "Canvas1.config(bg=\"white\",width = newImageSizeWidth, height = newImageSizeHeight)\n",
    "\n",
    "Canvas1.pack(expand=True,fill=BOTH)\n",
    "\n"
   ]
  },
  {
   "cell_type": "code",
   "execution_count": null,
   "metadata": {},
   "outputs": [],
   "source": [
    "\n",
    "\n"
   ]
  },
  {
   "cell_type": "code",
   "execution_count": 3,
   "metadata": {},
   "outputs": [],
   "source": [
    "    labelFrame = Frame(root,bg='black')\n",
    "    labelFrame.place(relx=0.5,rely=0.35,relwidth=0.35,relheight=0.1)\n",
    "        \n",
    "    # User ID\n",
    "    \n",
    "    lb1 = Label(labelFrame,text=\"User ID : \", bg='black', fg='white')\n",
    "    lb1.place(relx=0.05,rely=0.1, relheight=0.2)\n",
    "        \n",
    "    bookInfo1 = Entry(labelFrame)\n",
    "    bookInfo1.place(relx=0.3,rely=0.1, relwidth=0.35, relheight=0.2)\n",
    "        \n",
    "    # Password\n",
    "    \n",
    "    lb2 = Label(labelFrame,text=\"Password : \", bg='black', fg='white')\n",
    "    lb2.place(relx=0.05,rely=0.5, relheight=0.2)\n",
    "        \n",
    "    bookInfo2 = Entry(labelFrame)\n",
    "    bookInfo2.place(relx=0.3,rely=0.5, relwidth=0.35, relheight=0.2)\n",
    "\n",
    "\n"
   ]
  },
  {
   "cell_type": "code",
   "execution_count": 4,
   "metadata": {},
   "outputs": [],
   "source": [
    "    # Enter\n",
    "    \n",
    "    btn1 = Button(labelFrame,text=\"Enter\",bg= 'black', fg='red',bd= 5,font= ('Courier',12) )\n",
    "    btn1.place(relx=0.8,rely=0.6, relwidth=0.15,relheight=0.3)"
   ]
  },
  {
   "cell_type": "code",
   "execution_count": 5,
   "metadata": {},
   "outputs": [],
   "source": [
    " # Window\n",
    "\n",
    "root.mainloop()"
   ]
  },
  {
   "cell_type": "code",
   "execution_count": null,
   "metadata": {},
   "outputs": [],
   "source": [
    " "
   ]
  },
  {
   "cell_type": "code",
   "execution_count": null,
   "metadata": {},
   "outputs": [],
   "source": []
  },
  {
   "cell_type": "code",
   "execution_count": null,
   "metadata": {},
   "outputs": [],
   "source": []
  },
  {
   "cell_type": "code",
   "execution_count": null,
   "metadata": {},
   "outputs": [],
   "source": []
  },
  {
   "cell_type": "code",
   "execution_count": null,
   "metadata": {},
   "outputs": [],
   "source": []
  },
  {
   "cell_type": "code",
   "execution_count": null,
   "metadata": {},
   "outputs": [],
   "source": []
  }
 ],
 "metadata": {
  "kernelspec": {
   "display_name": "Python 3",
   "language": "python",
   "name": "python3"
  },
  "language_info": {
   "codemirror_mode": {
    "name": "ipython",
    "version": 3
   },
   "file_extension": ".py",
   "mimetype": "text/x-python",
   "name": "python",
   "nbconvert_exporter": "python",
   "pygments_lexer": "ipython3",
   "version": "3.7.4"
  }
 },
 "nbformat": 4,
 "nbformat_minor": 2
}
